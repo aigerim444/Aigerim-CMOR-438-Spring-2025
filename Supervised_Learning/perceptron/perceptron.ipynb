{
 "cells": [
  {
   "cell_type": "code",
   "execution_count": null,
   "metadata": {},
   "outputs": [],
   "source": []
  },
  {
   "cell_type": "markdown",
   "metadata": {},
   "source": [
    "\n"
   ]
  },
  {
   "cell_type": "markdown",
   "metadata": {},
   "source": [
    "We will use two features from our data set: \n",
    "as our input signals and corresponding labels. We will try to predict which *species* using these measurements and labels."
   ]
  },
  {
   "cell_type": "markdown",
   "metadata": {},
   "source": [
    "First, we have z - the pre activation value of the neuron\n",
    "z = weighted sum + bias of the input signal at the ith data point.\n",
    "z = w(sub 1)x^(i) + w(sub2)x^(i) + b\n",
    "= w^Tx^(i)+b\n",
    "\n"
   ]
  },
  {
   "cell_type": "markdown",
   "metadata": {},
   "source": [
    "Processing of the signal - gives us a, the post activation value\n",
    "a is found by passing in the pre-activation value into phi, the activation function\n",
    "\n",
    "*equation* a = phi(z)\n",
    "\n",
    "a will be y hat (output of the neuron)\n",
    "activation function applied to weighted sum of the signals\n"
   ]
  },
  {
   "cell_type": "markdown",
   "metadata": {},
   "source": [
    "Activation functions can vary (linear, logistic, etc)\n",
    "For binary classification, we can choose the sign function for our activation function of choice.\n",
    "\n",
    "phi(z) = 1 if z>0\n",
    "phi(z) = -1 if z<0\n",
    "\n",
    "With this activation function, we can assign our CATEGORY1 to be labeled 1 and SECONDONE to be labeled -1.\n",
    "\n",
    "so if the weighted sum of input signals is high enough, the neuron will \"fire\" or say that the \"the flower is species 1\""
   ]
  },
  {
   "cell_type": "markdown",
   "metadata": {},
   "source": [
    "z defines a hyperplane. z = w(sub 1)x^(i)sub1 + w(sub2)x^(i)sub2 + b\n",
    "\n",
    "if we rewrite the z equation for x2: x2= (-wsub1xsub1 - b) / (w2)\n",
    "this gives us a line which hopes to split the data into two regions"
   ]
  },
  {
   "cell_type": "markdown",
   "metadata": {},
   "source": [
    "Choosing the weights and bias\n",
    "\n",
    "When a neuron is initialized, the weights and bias are initialized randomly from a uniform distribution.\n",
    "\n",
    "So at first, the neuron has random outputs.\n",
    "In order to train our neuron, we need to measure how well the neuron is performing.\n",
    "Cost function\n",
    "C(__w__, b) = 1/4 /sum /limits _{i=1}^{N} (/hat y^{i} - y^{i})^{2}\n"
   ]
  },
  {
   "cell_type": "markdown",
   "metadata": {},
   "source": [
    "Update Rule \n",
    "The purpose of the rule is to better the weights and biases\n",
    "\n",
    "/bar w <- /bar w - 1/2(/hat y^{i} - y^{i})*/barx ^{i}"
   ]
  },
  {
   "cell_type": "code",
   "execution_count": 2,
   "metadata": {},
   "outputs": [],
   "source": [
    "import numpy as np\n",
    "\n",
    "def unit_step_func(x):\n",
    "    return np.where(x>0 , 1, 0)\n",
    "class Perceptron:\n",
    "\n",
    "    def __init__(self, learning_rate=0.01, n_iterations=1000):\n",
    "        self.lr = learning_rate\n",
    "        self.n_iters = n_iterations\n",
    "        self.activation_func = unit_step_func\n",
    "        self.weights = None\n",
    "        self.bias = None\n",
    "\n",
    "    def fit(self, X, y): #train data\n",
    "        n_samples, n_features = X.shape\n",
    "\n",
    "        #initialize params\n",
    "        self.weights = np.zeros(n_features)\n",
    "        self.bias = 0\n",
    "\n",
    "        y_ = np.where(y>0, 1, 0)\n",
    "\n",
    "        #learning weights\n",
    "        for _ in range(self.n_iters):\n",
    "            for idx, x_i in enumerate(X):\n",
    "                linear_output = np.dot(x_i, self.weights)+self.bias\n",
    "                y_predicted = self.activation_func(linear_output)\n",
    "\n",
    "                #update rule\n",
    "                update = self.lr * (y_[idx] - y_predicted)\n",
    "                self.weights +=update * x_i\n",
    "                self.bias += update\n",
    "\n",
    "\n",
    "\n",
    "\n",
    "    def predict(self, X):\n",
    "        linear_output = np.dot(X, self.weights)+self.bias\n",
    "        y_predicted = self.activation_func(linear_output)\n",
    "        return y_predicted\n",
    "\n",
    "\n"
   ]
  },
  {
   "cell_type": "code",
   "execution_count": 4,
   "metadata": {},
   "outputs": [],
   "source": [
    "#testing\n",
    "\n",
    "if __name__ == \"__main__\":\n",
    "    import matplotlib.pyplot as plt\n",
    "    from sklearn.model_selection import train_test_split\n",
    "    from sklearn import datasets"
   ]
  },
  {
   "cell_type": "code",
   "execution_count": 6,
   "metadata": {},
   "outputs": [],
   "source": [
    "def accuracy(y_true, y_pred):\n",
    "    accuracy = np.sum(y_true == y_pred) / len(y_true)\n",
    "    return accuracy"
   ]
  },
  {
   "cell_type": "code",
   "execution_count": null,
   "metadata": {},
   "outputs": [],
   "source": [
    "X, y = datasets.make_blobs"
   ]
  }
 ],
 "metadata": {
  "kernelspec": {
   "display_name": "base",
   "language": "python",
   "name": "python3"
  },
  "language_info": {
   "codemirror_mode": {
    "name": "ipython",
    "version": 3
   },
   "file_extension": ".py",
   "mimetype": "text/x-python",
   "name": "python",
   "nbconvert_exporter": "python",
   "pygments_lexer": "ipython3",
   "version": "3.12.4"
  }
 },
 "nbformat": 4,
 "nbformat_minor": 2
}
