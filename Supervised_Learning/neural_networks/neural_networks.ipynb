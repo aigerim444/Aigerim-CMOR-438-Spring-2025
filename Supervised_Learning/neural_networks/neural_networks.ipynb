{
 "cells": [
  {
   "cell_type": "markdown",
   "id": "f115bb44",
   "metadata": {},
   "source": [
    "## Neural Network ##"
   ]
  },
  {
   "cell_type": "code",
   "execution_count": null,
   "id": "d4d05b90",
   "metadata": {},
   "outputs": [],
   "source": [
    "from tensorflow import keras \n",
    "import numpy as np\n",
    "import matplotlib.pyplot as plt\n",
    "\n",
    "# Use the keras module to import the necessary data \n",
    "(train_X, train_y), (test_X, test_y) = keras.datasets.mnist.load_data()"
   ]
  }
 ],
 "metadata": {
  "language_info": {
   "name": "python"
  }
 },
 "nbformat": 4,
 "nbformat_minor": 5
}
